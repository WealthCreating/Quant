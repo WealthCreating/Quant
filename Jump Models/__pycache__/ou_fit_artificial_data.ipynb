{
 "cells": [
  {
   "cell_type": "code",
   "execution_count": 1,
   "metadata": {},
   "outputs": [],
   "source": [
    "import numpy as np\n",
    "import matplotlib.pyplot as plt\n",
    "from ito_diffusion_1d import *\n",
    "from ou_fitting import *\n",
    "from scipy.stats import laplace\n",
    "plt.style.use('dark_background')"
   ]
  },
  {
   "cell_type": "code",
   "execution_count": 2,
   "metadata": {},
   "outputs": [],
   "source": [
    "params = {\n",
    "    'font.size': 14,\n",
    "    'figure.figsize': (11,18),\n",
    "    'axes.labelsize': 12,\n",
    "    'xtick.labelsize': 12,\n",
    "    'ytick.labelsize': 12,\n",
    "}\n",
    "plt.rcParams.update(params)"
   ]
  },
  {
   "cell_type": "code",
   "execution_count": 3,
   "metadata": {},
   "outputs": [],
   "source": [
    "DAYS_IN_YEAR = 252\n",
    "T = 8\n",
    "SCHEME_STEPS = int(DAYS_IN_YEAR*T)"
   ]
  },
  {
   "cell_type": "code",
   "execution_count": 4,
   "metadata": {},
   "outputs": [],
   "source": [
    "std_dev_weight = 1.0\n",
    "n_quadrature = 15"
   ]
  },
  {
   "cell_type": "markdown",
   "metadata": {},
   "source": [
    "## Ornstein-Uhlenbeck with jumps\n",
    "\n",
    "$dX_t = -\\lambda(\\theta_0-X_t)dt + \\sigma dW_t + dJ_t$ where the jump process $J_t$ has constant Poisson intensity $m$ and jump size distribution $Laplace(\\gamma)$."
   ]
  },
  {
   "cell_type": "code",
   "execution_count": 5,
   "metadata": {
    "scrolled": true
   },
   "outputs": [
    {
     "data": {
      "image/png": "[encoded data removed]",
      "text/plain": [
       "<Figure size 648x360 with 1 Axes>"
      ]
     },
     "metadata": {
      "needs_background": "dark"
     },
     "output_type": "display_data"
    }
   ],
   "source": [
    "fig, ax = plt.subplots(figsize=(9,5), nrows=1, ncols=1)\n",
    "\n",
    "mean_reversion = 5.0\n",
    "long_term = 0.0\n",
    "vol = 0.4\n",
    "\n",
    "jump_intensity = 2.0\n",
    "jump_size_scale = 1.0\n",
    "jump_size_distr = laplace(loc=0.0, scale=1/jump_size_scale)\n",
    "\n",
    "jump_params = {\n",
    "    'jump_intensity_func': lambda t,x: jump_intensity,\n",
    "    'jump_size_distr': jump_size_distr,\n",
    "}\n",
    "\n",
    "OU = Vasicek(x0=0.0, T=T, scheme_steps=SCHEME_STEPS, \n",
    "             vol=vol, long_term=long_term, mean_reversion=mean_reversion,\n",
    "             jump_params=jump_params\n",
    "            )\n",
    "\n",
    "df = OU.simulate()\n",
    "\n",
    "ax.plot(df, label='OU with jumps')\n",
    "ax.legend(loc='upper right')\n",
    "\n",
    "plt.tight_layout()\n",
    "plt.show()"
   ]
  },
  {
   "cell_type": "markdown",
   "metadata": {},
   "source": [
    "## Estimate all parameters at once"
   ]
  },
  {
   "cell_type": "code",
   "execution_count": 6,
   "metadata": {},
   "outputs": [],
   "source": [
    "fitter = OU_jump_Laplace_fitter(theta_init_mode='random',\n",
    "                                std_dev_weight=std_dev_weight,\n",
    "                                n_quadrature=n_quadrature,\n",
    "                               )\n",
    "fitter.df = df\n",
    "fitter.regularization = 0.0"
   ]
  },
  {
   "cell_type": "code",
   "execution_count": 7,
   "metadata": {},
   "outputs": [
    {
     "data": {
      "text/plain": [
       "[5.089420352689376,\n",
       " -0.0934046287476431,\n",
       " 0.5378308409210102,\n",
       " 0.8355879723246055,\n",
       " 2.6820801877756475]"
      ]
     },
     "execution_count": 7,
     "metadata": {},
     "output_type": "execute_result"
    }
   ],
   "source": [
    "fitter.theta_init"
   ]
  },
  {
   "cell_type": "code",
   "execution_count": 8,
   "metadata": {},
   "outputs": [
    {
     "data": {
      "text/plain": [
       "      fun: 4.2015149184770863e-05\n",
       " hess_inv: <5x5 LbfgsInvHessProduct with dtype=float64>\n",
       "      jac: array([ 6.37404151e-06,  9.33074622e-06,  3.38553580e-06, -8.03915582e-08,\n",
       "       -1.36377868e-05])\n",
       "  message: b'CONVERGENCE: REL_REDUCTION_OF_F_<=_FACTR*EPSMCH'\n",
       "     nfev: 150\n",
       "      nit: 22\n",
       "   status: 0\n",
       "  success: True\n",
       "        x: array([ 5.22198512, -0.04117164,  0.11223197,  1.33938165,  2.45452542])"
      ]
     },
     "execution_count": 8,
     "metadata": {},
     "output_type": "execute_result"
    }
   ],
   "source": [
    "fit_info = fitter.fit()\n",
    "fit_info"
   ]
  },
  {
   "cell_type": "code",
   "execution_count": 9,
   "metadata": {},
   "outputs": [
    {
     "name": "stdout",
     "output_type": "stream",
     "text": [
      "Ground truth:\n",
      "mean reversion: 5.00\n",
      "long term: 0.00\n",
      "vol: 40.00%\n",
      "intensity: 2.00\n",
      "jump size scale: 1.00\n",
      "\n",
      "Fitted:\n",
      "mean reversion: 5.22\n",
      "long term: -0.04\n",
      "vol: 11%\n",
      "intensity: 2.45\n",
      "jump size scale: 1.34\n",
      "\n",
      "Regression (diffusion only):\n",
      "mean reversion (annualized): 4.36\n",
      "long term: -0.03\n",
      "vol (annualized): 43%\n"
     ]
    }
   ],
   "source": [
    "print('Ground truth:')\n",
    "print('mean reversion: {:.2f}'.format(OU.mean_reversion))\n",
    "print('long term: {:.2f}'.format(OU.long_term))\n",
    "print('vol: {:.2%}'.format(OU.vol_double))\n",
    "print('intensity: {:.2f}'.format(jump_intensity))\n",
    "print('jump size scale: {:.2f}'.format(jump_size_scale))\n",
    "\n",
    "print('\\nFitted:')\n",
    "print('mean reversion: {:.2f}'.format(fitter.theta[0]))\n",
    "print('long term: {:.2f}'.format(fitter.theta[1]))\n",
    "print('vol: {:.0%}'.format(fitter.theta[2]))\n",
    "print('intensity: {:.2f}'.format(fitter.theta[4]))\n",
    "print('jump size scale: {:.2f}'.format(fitter.theta[3]))\n",
    "\n",
    "print('\\nRegression (diffusion only):')\n",
    "print('mean reversion (annualized): {:.2f}'.format(fitter.theta_regression()[0]))\n",
    "print('long term: {:.2f}'.format(fitter.theta_regression()[1]))\n",
    "print('vol (annualized): {:.0%}'.format(fitter.vol_estimate()))"
   ]
  },
  {
   "cell_type": "markdown",
   "metadata": {},
   "source": [
    "## Ornstein-Uhlenbeck with jumps, only fit jump parameters"
   ]
  },
  {
   "cell_type": "code",
   "execution_count": 10,
   "metadata": {},
   "outputs": [],
   "source": [
    "fitter = OU_jump_only_Laplace_fitter(theta_init_mode='random',\n",
    "                                     std_dev_weight=std_dev_weight,\n",
    "                                     n_quadrature=n_quadrature,\n",
    "                                    )\n",
    "fitter.df = df\n",
    "fitter.theta_diffusion = [mean_reversion, long_term, vol]\n",
    "fitter.regularization = 0.0"
   ]
  },
  {
   "cell_type": "code",
   "execution_count": 11,
   "metadata": {},
   "outputs": [
    {
     "data": {
      "text/plain": [
       "[0.12304752254127413, 2.34051784069631]"
      ]
     },
     "execution_count": 11,
     "metadata": {},
     "output_type": "execute_result"
    }
   ],
   "source": [
    "fitter.theta_init"
   ]
  },
  {
   "cell_type": "code",
   "execution_count": 12,
   "metadata": {},
   "outputs": [
    {
     "data": {
      "text/plain": [
       "      fun: 0.002924347510930253\n",
       " hess_inv: <2x2 LbfgsInvHessProduct with dtype=float64>\n",
       "      jac: array([ 1.48904326e-06, -1.07761022e-06])\n",
       "  message: b'CONVERGENCE: NORM_OF_PROJECTED_GRADIENT_<=_PGTOL'\n",
       "     nfev: 45\n",
       "      nit: 13\n",
       "   status: 0\n",
       "  success: True\n",
       "        x: array([1.25227212, 1.97056048])"
      ]
     },
     "execution_count": 12,
     "metadata": {},
     "output_type": "execute_result"
    }
   ],
   "source": [
    "fit_info = fitter.fit()\n",
    "fit_info"
   ]
  },
  {
   "cell_type": "code",
   "execution_count": 13,
   "metadata": {},
   "outputs": [
    {
     "name": "stdout",
     "output_type": "stream",
     "text": [
      "Ground truth:\n",
      "intensity: 2.00\n",
      "jump size scale: 1.00\n",
      "\n",
      "Fitted:\n",
      "intensity: 1.97\n",
      "jump size scale: 1.25\n"
     ]
    }
   ],
   "source": [
    "print('Ground truth:')\n",
    "print('intensity: {:.2f}'.format(jump_intensity))\n",
    "print('jump size scale: {:.2f}'.format(jump_size_scale))\n",
    "\n",
    "print('\\nFitted:')\n",
    "print('intensity: {:.2f}'.format(fitter.theta[1]))\n",
    "print('jump size scale: {:.2f}'.format(fitter.theta[0]))"
   ]
  },
  {
   "cell_type": "markdown",
   "metadata": {},
   "source": [
    "## Estimate all parameters except mean-reversion"
   ]
  },
  {
   "cell_type": "code",
   "execution_count": 14,
   "metadata": {},
   "outputs": [],
   "source": [
    "fitter = OU_jump_Laplace_fixed_mr_fitter(theta_init_mode='random',\n",
    "                                         std_dev_weight=std_dev_weight,\n",
    "                                         n_quadrature=n_quadrature,\n",
    "                                        )\n",
    "fitter.df = df\n",
    "fitter.regularization = 0.0"
   ]
  },
  {
   "cell_type": "code",
   "execution_count": 15,
   "metadata": {},
   "outputs": [
    {
     "data": {
      "text/plain": [
       "[-0.28233131779061926,\n",
       " 0.9040152890497809,\n",
       " 0.4680078778836208,\n",
       " 3.1737004139338034]"
      ]
     },
     "execution_count": 15,
     "metadata": {},
     "output_type": "execute_result"
    }
   ],
   "source": [
    "fitter.theta_init"
   ]
  },
  {
   "cell_type": "code",
   "execution_count": 16,
   "metadata": {},
   "outputs": [
    {
     "data": {
      "text/plain": [
       "      fun: 4.0874334775072656e-05\n",
       " hess_inv: <4x4 LbfgsInvHessProduct with dtype=float64>\n",
       "      jac: array([-6.96194675e-07,  2.71050543e-12,  1.05276031e-07,  6.05120338e-09])\n",
       "  message: b'CONVERGENCE: NORM_OF_PROJECTED_GRADIENT_<=_PGTOL'\n",
       "     nfev: 190\n",
       "      nit: 32\n",
       "   status: 0\n",
       "  success: True\n",
       "        x: array([-0.04117383,  0.        ,  1.37103343,  2.13396635])"
      ]
     },
     "execution_count": 16,
     "metadata": {},
     "output_type": "execute_result"
    }
   ],
   "source": [
    "fit_info = fitter.fit()\n",
    "fit_info"
   ]
  },
  {
   "cell_type": "code",
   "execution_count": 17,
   "metadata": {},
   "outputs": [
    {
     "name": "stdout",
     "output_type": "stream",
     "text": [
      "Ground truth:\n",
      "mean reversion: 5.00\n",
      "long term: 0.00\n",
      "vol: 40.00%\n",
      "intensity: 2.00\n",
      "jump size scale: 1.00\n",
      "\n",
      "Fitted:\n",
      "mean reversion: 4.36\n",
      "long term: -0.04\n",
      "vol: 0%\n",
      "intensity: 2.13\n",
      "jump size scale: 1.37\n"
     ]
    }
   ],
   "source": [
    "print('Ground truth:')\n",
    "print('mean reversion: {:.2f}'.format(OU.mean_reversion))\n",
    "print('long term: {:.2f}'.format(OU.long_term))\n",
    "print('vol: {:.2%}'.format(OU.vol_double))\n",
    "print('intensity: {:.2f}'.format(jump_intensity))\n",
    "print('jump size scale: {:.2f}'.format(jump_size_scale))\n",
    "\n",
    "print('\\nFitted:')\n",
    "print('mean reversion: {:.2f}'.format(fitter.theta_regression()[0]))\n",
    "print('long term: {:.2f}'.format(fitter.theta[0]))\n",
    "print('vol: {:.0%}'.format(fitter.theta[1]))\n",
    "print('intensity: {:.2f}'.format(fitter.theta[3]))\n",
    "print('jump size scale: {:.2f}'.format(fitter.theta[2]))"
   ]
  },
  {
   "cell_type": "markdown",
   "metadata": {},
   "source": [
    "## Estimate all parameters except vol\n",
    "\n",
    "Compared to mean-reversion, volatility can be estimated in a robust fashion by using inter-quantile range estimate (basically fitting a normal distribution using the quantiles rather than the moments as these are less sensitive to the large deviations coming from the jumps)."
   ]
  },
  {
   "cell_type": "code",
   "execution_count": 18,
   "metadata": {},
   "outputs": [],
   "source": [
    "fitter = OU_jump_Laplace_fixed_vol_fitter(theta_init_mode='random',\n",
    "                                          std_dev_weight=std_dev_weight,\n",
    "                                          n_quadrature=n_quadrature,\n",
    "                                         )\n",
    "fitter.df = df\n",
    "fitter.regularization = 0.0"
   ]
  },
  {
   "cell_type": "code",
   "execution_count": 19,
   "metadata": {},
   "outputs": [
    {
     "data": {
      "text/plain": [
       "[5.0267949044979074,\n",
       " -0.9910680406955239,\n",
       " 0.43409816356019726,\n",
       " 2.079332483670263]"
      ]
     },
     "execution_count": 19,
     "metadata": {},
     "output_type": "execute_result"
    }
   ],
   "source": [
    "fitter.theta_init"
   ]
  },
  {
   "cell_type": "code",
   "execution_count": 20,
   "metadata": {},
   "outputs": [
    {
     "data": {
      "text/plain": [
       "      fun: 5.592554545720097e-05\n",
       " hess_inv: <4x4 LbfgsInvHessProduct with dtype=float64>\n",
       "      jac: array([-3.19518310e-06,  5.48782889e-06,  8.66037656e-07, -1.34277287e-06])\n",
       "  message: b'CONVERGENCE: NORM_OF_PROJECTED_GRADIENT_<=_PGTOL'\n",
       "     nfev: 115\n",
       "      nit: 21\n",
       "   status: 0\n",
       "  success: True\n",
       "        x: array([ 5.10970853, -0.04117884,  1.22022486,  1.8990133 ])"
      ]
     },
     "execution_count": 20,
     "metadata": {},
     "output_type": "execute_result"
    }
   ],
   "source": [
    "fit_info = fitter.fit()\n",
    "fit_info"
   ]
  },
  {
   "cell_type": "code",
   "execution_count": 21,
   "metadata": {},
   "outputs": [
    {
     "name": "stdout",
     "output_type": "stream",
     "text": [
      "Ground truth:\n",
      "mean reversion: 5.00\n",
      "long term: 0.00\n",
      "vol: 40.00%\n",
      "intensity: 2.00\n",
      "jump size scale: 1.00\n",
      "\n",
      "Fitted:\n",
      "mean reversion: 5.11\n",
      "long term: -0.04\n",
      "vol: 43%\n",
      "intensity: 1.90\n",
      "jump size scale: 1.22\n"
     ]
    }
   ],
   "source": [
    "print('Ground truth:')\n",
    "print('mean reversion: {:.2f}'.format(OU.mean_reversion))\n",
    "print('long term: {:.2f}'.format(OU.long_term))\n",
    "print('vol: {:.2%}'.format(OU.vol_double))\n",
    "print('intensity: {:.2f}'.format(jump_intensity))\n",
    "print('jump size scale: {:.2f}'.format(jump_size_scale))\n",
    "\n",
    "print('\\nFitted:')\n",
    "print('mean reversion: {:.2f}'.format(fitter.theta[0]))\n",
    "print('long term: {:.2f}'.format(fitter.theta[1]))\n",
    "print('vol: {:.0%}'.format(fitter.vol_estimate()))\n",
    "print('intensity: {:.2f}'.format(fitter.theta[3]))\n",
    "print('jump size scale: {:.2f}'.format(fitter.theta[2]))"
   ]
  },
  {
   "cell_type": "markdown",
   "metadata": {},
   "source": [
    "## Calibrating a jump model when there is none...\n",
    "\n",
    "A good test to detect potential jumps is to calibrate a jump model : if the most likely value for jump intensity is zero then the jump hypothesis can be rejected (heuristically but this can perhaps be turned into a rigorous statistical test)."
   ]
  },
  {
   "cell_type": "code",
   "execution_count": 22,
   "metadata": {},
   "outputs": [
    {
     "data": {
      "image/png": "[encoded data removed]",
      "text/plain": [
       "<Figure size 648x360 with 1 Axes>"
      ]
     },
     "metadata": {
      "needs_background": "dark"
     },
     "output_type": "display_data"
    }
   ],
   "source": [
    "fig, ax = plt.subplots(figsize=(9,5), nrows=1, ncols=1)\n",
    "\n",
    "mean_reversion = 1.0\n",
    "long_term = 0.0\n",
    "vol = 0.4\n",
    "\n",
    "OU = Vasicek(x0=0.0, T=T, scheme_steps=SCHEME_STEPS, \n",
    "             vol=vol, long_term=long_term, mean_reversion=mean_reversion,\n",
    "            )\n",
    "\n",
    "df = OU.simulate()\n",
    "\n",
    "ax.plot(df, label='OU with jumps')\n",
    "ax.legend(loc='upper right')\n",
    "\n",
    "plt.tight_layout()\n",
    "plt.show()"
   ]
  },
  {
   "cell_type": "code",
   "execution_count": 23,
   "metadata": {},
   "outputs": [],
   "source": [
    "fitter = OU_jump_only_Laplace_fitter(theta_init_mode='random',\n",
    "                                     std_dev_weight=std_dev_weight,\n",
    "                                     n_quadrature=n_quadrature,\n",
    "                                    )\n",
    "fitter.df = df\n",
    "fitter.theta_diffusion = [mean_reversion, long_term, vol]\n",
    "fitter.regularization = 0.0"
   ]
  },
  {
   "cell_type": "code",
   "execution_count": 24,
   "metadata": {},
   "outputs": [
    {
     "data": {
      "text/plain": [
       "[0.739727009832741, 4.629112466500123]"
      ]
     },
     "execution_count": 24,
     "metadata": {},
     "output_type": "execute_result"
    }
   ],
   "source": [
    "fitter.theta_init"
   ]
  },
  {
   "cell_type": "code",
   "execution_count": 25,
   "metadata": {},
   "outputs": [
    {
     "data": {
      "text/plain": [
       "      fun: 0.009591476993325385\n",
       " hess_inv: <2x2 LbfgsInvHessProduct with dtype=float64>\n",
       "      jac: array([0.        , 0.00431198])\n",
       "  message: b'CONVERGENCE: NORM_OF_PROJECTED_GRADIENT_<=_PGTOL'\n",
       "     nfev: 27\n",
       "      nit: 8\n",
       "   status: 0\n",
       "  success: True\n",
       "        x: array([5.67189642, 0.        ])"
      ]
     },
     "execution_count": 25,
     "metadata": {},
     "output_type": "execute_result"
    }
   ],
   "source": [
    "fit_info = fitter.fit()\n",
    "fit_info"
   ]
  },
  {
   "cell_type": "code",
   "execution_count": 26,
   "metadata": {},
   "outputs": [
    {
     "name": "stdout",
     "output_type": "stream",
     "text": [
      "Fitted:\n",
      "intensity: 0.00\n",
      "jump size scale: 5.67\n"
     ]
    }
   ],
   "source": [
    "print('Fitted:')\n",
    "print('intensity: {:.2f}'.format(fitter.theta[1]))\n",
    "print('jump size scale: {:.2f}'.format(fitter.theta[0]))"
   ]
  }
 ],
 "metadata": {
  "kernelspec": {
   "display_name": "Python 3",
   "language": "python",
   "name": "python3"
  },
  "language_info": {
   "codemirror_mode": {
    "name": "ipython",
    "version": 3
   },
   "file_extension": ".py",
   "mimetype": "text/x-python",
   "name": "python",
   "nbconvert_exporter": "python",
   "pygments_lexer": "ipython3",
   "version": "3.7.3"
  }
 },
 "nbformat": 4,
 "nbformat_minor": 2
}
