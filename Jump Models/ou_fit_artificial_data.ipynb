{
 "cells": [
  {
   "cell_type": "code",
   "execution_count": 1,
   "metadata": {},
   "outputs": [],
   "source": [
    "import numpy as np\n",
    "import matplotlib.pyplot as plt\n",
    "from ito_diffusion_1d import *\n",
    "from ou_fitting import *\n",
    "from scipy.stats import laplace\n",
    "plt.style.use('dark_background')"
   ]
  },
  {
   "cell_type": "code",
   "execution_count": 2,
   "metadata": {},
   "outputs": [],
   "source": [
    "params = {\n",
    "    'font.size': 14,\n",
    "    'figure.figsize': (11,18),\n",
    "    'axes.labelsize': 12,\n",
    "    'xtick.labelsize': 12,\n",
    "    'ytick.labelsize': 12,\n",
    "}\n",
    "plt.rcParams.update(params)"
   ]
  },
  {
   "cell_type": "code",
   "execution_count": 3,
   "metadata": {},
   "outputs": [],
   "source": [
    "DAYS_IN_YEAR = 252\n",
    "T = 8\n",
    "SCHEME_STEPS = int(DAYS_IN_YEAR*T)"
   ]
  },
  {
   "cell_type": "code",
   "execution_count": 4,
   "metadata": {},
   "outputs": [],
   "source": [
    "std_dev_weight = 1.0\n",
    "n_quadrature = 15"
   ]
  },
  {
   "cell_type": "markdown",
   "metadata": {},
   "source": [
    "## Ornstein-Uhlenbeck with jumps\n",
    "\n",
    "$dX_t = \\lambda(\\theta_0-X_t)dt + \\sigma dW_t + dJ_t$ where the jump process $J_t$ has constant Poisson intensity $m$ and jump size distribution $Laplace(\\gamma)$."
   ]
  },
  {
   "cell_type": "code",
   "execution_count": 5,
   "metadata": {
    "scrolled": true
   },
   "outputs": [
    {
     "data": {
      "image/png": "[encoded data removed]",
      "text/plain": [
       "<Figure size 648x360 with 1 Axes>"
      ]
     },
     "metadata": {
      "needs_background": "dark"
     },
     "output_type": "display_data"
    }
   ],
   "source": [
    "fig, ax = plt.subplots(figsize=(9,5), nrows=1, ncols=1)\n",
    "\n",
    "mean_reversion = 5.0\n",
    "long_term = 0.0\n",
    "vol = 0.4\n",
    "\n",
    "jump_intensity = 2.0\n",
    "jump_size_scale = 1.0\n",
    "jump_size_distr = laplace(loc=0.0, scale=1/jump_size_scale)\n",
    "\n",
    "jump_params = {\n",
    "    'jump_intensity_func': lambda t,x: jump_intensity,\n",
    "    'jump_size_distr': jump_size_distr,\n",
    "}\n",
    "\n",
    "OU = Vasicek(x0=0.0, T=T, scheme_steps=SCHEME_STEPS, \n",
    "             vol=vol, long_term=long_term, mean_reversion=mean_reversion,\n",
    "             jump_params=jump_params\n",
    "            )\n",
    "\n",
    "df = OU.simulate()\n",
    "\n",
    "ax.plot(df, label='OU with jumps')\n",
    "ax.legend(loc='upper right')\n",
    "\n",
    "plt.tight_layout()\n",
    "plt.show()"
   ]
  },
  {
   "cell_type": "markdown",
   "metadata": {},
   "source": [
    "## Estimate all parameters at once"
   ]
  },
  {
   "cell_type": "code",
   "execution_count": 6,
   "metadata": {},
   "outputs": [],
   "source": [
    "fitter = OU_jump_Laplace_fitter(theta_init_mode='random',\n",
    "                                std_dev_weight=std_dev_weight,\n",
    "                                n_quadrature=n_quadrature,\n",
    "                               )\n",
    "fitter.df = df\n",
    "fitter.regularization = 0.0"
   ]
  },
  {
   "cell_type": "code",
   "execution_count": 7,
   "metadata": {},
   "outputs": [
    {
     "data": {
      "text/plain": [
       "[5.466329430348327,\n",
       " 0.3984945463000147,\n",
       " 0.5165577111834653,\n",
       " 0.24127235803002517,\n",
       " 2.5142897934822996]"
      ]
     },
     "execution_count": 7,
     "metadata": {},
     "output_type": "execute_result"
    }
   ],
   "source": [
    "fitter.theta_init"
   ]
  },
  {
   "cell_type": "code",
   "execution_count": 8,
   "metadata": {},
   "outputs": [
    {
     "data": {
      "text/plain": [
       "      fun: 0.00034064667294193406\n",
       " hess_inv: <5x5 LbfgsInvHessProduct with dtype=float64>\n",
       "      jac: array([-4.66640615e-08,  2.39144642e-06,  9.79847713e-08, -2.14731661e-07,\n",
       "        6.79361081e-08])\n",
       "  message: b'CONVERGENCE: NORM_OF_PROJECTED_GRADIENT_<=_PGTOL'\n",
       "     nfev: 234\n",
       "      nit: 34\n",
       "   status: 0\n",
       "  success: True\n",
       "        x: array([5.07058027e+00, 6.56916597e-03, 6.53314173e-04, 1.52181724e+00,\n",
       "       3.48852523e+00])"
      ]
     },
     "execution_count": 8,
     "metadata": {},
     "output_type": "execute_result"
    }
   ],
   "source": [
    "fit_info = fitter.fit()\n",
    "fit_info"
   ]
  },
  {
   "cell_type": "code",
   "execution_count": 9,
   "metadata": {},
   "outputs": [
    {
     "name": "stdout",
     "output_type": "stream",
     "text": [
      "Ground truth:\n",
      "mean reversion: 5.00\n",
      "long term: 0.00\n",
      "vol: 40.00%\n",
      "intensity: 2.00\n",
      "jump size scale: 1.00\n",
      "\n",
      "Fitted:\n",
      "mean reversion: 5.07\n",
      "long term: 0.01\n",
      "vol: 0%\n",
      "intensity: 3.49\n",
      "jump size scale: 1.52\n",
      "\n",
      "Regression (diffusion only):\n",
      "mean reversion (annualized): 5.02\n",
      "long term: -0.02\n",
      "vol (annualized): 44%\n"
     ]
    }
   ],
   "source": [
    "print('Ground truth:')\n",
    "print('mean reversion: {:.2f}'.format(OU.mean_reversion))\n",
    "print('long term: {:.2f}'.format(OU.long_term))\n",
    "print('vol: {:.2%}'.format(OU.vol_double))\n",
    "print('intensity: {:.2f}'.format(jump_intensity))\n",
    "print('jump size scale: {:.2f}'.format(jump_size_scale))\n",
    "\n",
    "print('\\nFitted:')\n",
    "print('mean reversion: {:.2f}'.format(fitter.theta[0]))\n",
    "print('long term: {:.2f}'.format(fitter.theta[1]))\n",
    "print('vol: {:.0%}'.format(fitter.theta[2]))\n",
    "print('intensity: {:.2f}'.format(fitter.theta[4]))\n",
    "print('jump size scale: {:.2f}'.format(fitter.theta[3]))\n",
    "\n",
    "print('\\nRegression (diffusion only):')\n",
    "print('mean reversion (annualized): {:.2f}'.format(fitter.theta_regression()[0]))\n",
    "print('long term: {:.2f}'.format(fitter.theta_regression()[1]))\n",
    "print('vol (annualized): {:.0%}'.format(fitter.vol_estimate()))"
   ]
  },
  {
   "cell_type": "markdown",
   "metadata": {},
   "source": [
    "## Ornstein-Uhlenbeck with jumps, only fit jump parameters"
   ]
  },
  {
   "cell_type": "code",
   "execution_count": 10,
   "metadata": {},
   "outputs": [],
   "source": [
    "fitter = OU_jump_only_Laplace_fitter(theta_init_mode='random',\n",
    "                                     std_dev_weight=std_dev_weight,\n",
    "                                     n_quadrature=n_quadrature,\n",
    "                                    )\n",
    "fitter.df = df\n",
    "fitter.theta_diffusion = [mean_reversion, long_term, vol]\n",
    "fitter.regularization = 0.0"
   ]
  },
  {
   "cell_type": "code",
   "execution_count": 11,
   "metadata": {},
   "outputs": [
    {
     "data": {
      "text/plain": [
       "[0.24560053685468342, 4.4308419167970605]"
      ]
     },
     "execution_count": 11,
     "metadata": {},
     "output_type": "execute_result"
    }
   ],
   "source": [
    "fitter.theta_init"
   ]
  },
  {
   "cell_type": "code",
   "execution_count": 12,
   "metadata": {},
   "outputs": [
    {
     "data": {
      "text/plain": [
       "      fun: 0.00042223526779906615\n",
       " hess_inv: <2x2 LbfgsInvHessProduct with dtype=float64>\n",
       "      jac: array([-1.55732090e-06,  8.37291391e-07])\n",
       "  message: b'CONVERGENCE: NORM_OF_PROJECTED_GRADIENT_<=_PGTOL'\n",
       "     nfev: 54\n",
       "      nit: 17\n",
       "   status: 0\n",
       "  success: True\n",
       "        x: array([1.4157426 , 2.85197345])"
      ]
     },
     "execution_count": 12,
     "metadata": {},
     "output_type": "execute_result"
    }
   ],
   "source": [
    "fit_info = fitter.fit()\n",
    "fit_info"
   ]
  },
  {
   "cell_type": "code",
   "execution_count": 13,
   "metadata": {},
   "outputs": [
    {
     "name": "stdout",
     "output_type": "stream",
     "text": [
      "Ground truth:\n",
      "intensity: 2.00\n",
      "jump size scale: 1.00\n",
      "\n",
      "Fitted:\n",
      "intensity: 2.85\n",
      "jump size scale: 1.42\n"
     ]
    }
   ],
   "source": [
    "print('Ground truth:')\n",
    "print('intensity: {:.2f}'.format(jump_intensity))\n",
    "print('jump size scale: {:.2f}'.format(jump_size_scale))\n",
    "\n",
    "print('\\nFitted:')\n",
    "print('intensity: {:.2f}'.format(fitter.theta[1]))\n",
    "print('jump size scale: {:.2f}'.format(fitter.theta[0]))"
   ]
  },
  {
   "cell_type": "markdown",
   "metadata": {},
   "source": [
    "## Estimate all parameters except mean-reversion"
   ]
  },
  {
   "cell_type": "code",
   "execution_count": 14,
   "metadata": {},
   "outputs": [],
   "source": [
    "fitter = OU_jump_Laplace_fixed_mr_fitter(theta_init_mode='random',\n",
    "                                         std_dev_weight=std_dev_weight,\n",
    "                                         n_quadrature=n_quadrature,\n",
    "                                        )\n",
    "fitter.df = df\n",
    "fitter.regularization = 0.0"
   ]
  },
  {
   "cell_type": "code",
   "execution_count": 15,
   "metadata": {},
   "outputs": [
    {
     "data": {
      "text/plain": [
       "[-0.028409880609807203,\n",
       " 0.9988462902243126,\n",
       " 0.2402271058784448,\n",
       " 1.0516817493546646]"
      ]
     },
     "execution_count": 15,
     "metadata": {},
     "output_type": "execute_result"
    }
   ],
   "source": [
    "fitter.theta_init"
   ]
  },
  {
   "cell_type": "code",
   "execution_count": null,
   "metadata": {},
   "outputs": [],
   "source": [
    "fit_info = fitter.fit()\n",
    "fit_info"
   ]
  },
  {
   "cell_type": "code",
   "execution_count": null,
   "metadata": {},
   "outputs": [],
   "source": [
    "print('Ground truth:')\n",
    "print('mean reversion: {:.2f}'.format(OU.mean_reversion))\n",
    "print('long term: {:.2f}'.format(OU.long_term))\n",
    "print('vol: {:.2%}'.format(OU.vol_double))\n",
    "print('intensity: {:.2f}'.format(jump_intensity))\n",
    "print('jump size scale: {:.2f}'.format(jump_size_scale))\n",
    "\n",
    "print('\\nFitted:')\n",
    "print('mean reversion: {:.2f}'.format(fitter.theta_regression()[0]))\n",
    "print('long term: {:.2f}'.format(fitter.theta[0]))\n",
    "print('vol: {:.0%}'.format(fitter.theta[1]))\n",
    "print('intensity: {:.2f}'.format(fitter.theta[3]))\n",
    "print('jump size scale: {:.2f}'.format(fitter.theta[2]))"
   ]
  },
  {
   "cell_type": "markdown",
   "metadata": {},
   "source": [
    "## Estimate all parameters except vol\n",
    "\n",
    "Compared to mean-reversion, volatility can be estimated in a robust fashion by using inter-quantile range estimate (basically fitting a normal distribution using the quantiles rather than the moments as these are less sensitive to the large deviations coming from the jumps)."
   ]
  },
  {
   "cell_type": "code",
   "execution_count": null,
   "metadata": {},
   "outputs": [],
   "source": [
    "fitter = OU_jump_Laplace_fixed_vol_fitter(theta_init_mode='random',\n",
    "                                          std_dev_weight=std_dev_weight,\n",
    "                                          n_quadrature=n_quadrature,\n",
    "                                         )\n",
    "fitter.df = df\n",
    "fitter.regularization = 0.0"
   ]
  },
  {
   "cell_type": "code",
   "execution_count": null,
   "metadata": {},
   "outputs": [],
   "source": [
    "fitter.theta_init"
   ]
  },
  {
   "cell_type": "code",
   "execution_count": null,
   "metadata": {},
   "outputs": [],
   "source": [
    "fit_info = fitter.fit()\n",
    "fit_info"
   ]
  },
  {
   "cell_type": "code",
   "execution_count": null,
   "metadata": {},
   "outputs": [],
   "source": [
    "print('Ground truth:')\n",
    "print('mean reversion: {:.2f}'.format(OU.mean_reversion))\n",
    "print('long term: {:.2f}'.format(OU.long_term))\n",
    "print('vol: {:.2%}'.format(OU.vol_double))\n",
    "print('intensity: {:.2f}'.format(jump_intensity))\n",
    "print('jump size scale: {:.2f}'.format(jump_size_scale))\n",
    "\n",
    "print('\\nFitted:')\n",
    "print('mean reversion: {:.2f}'.format(fitter.theta[0]))\n",
    "print('long term: {:.2f}'.format(fitter.theta[1]))\n",
    "print('vol: {:.0%}'.format(fitter.vol_estimate()))\n",
    "print('intensity: {:.2f}'.format(fitter.theta[3]))\n",
    "print('jump size scale: {:.2f}'.format(fitter.theta[2]))"
   ]
  },
  {
   "cell_type": "markdown",
   "metadata": {},
   "source": [
    "## Calibrating a jump model when there is none...\n",
    "\n",
    "A good test to detect potential jumps is to calibrate a jump model : if the most likely value for jump intensity is zero then the jump hypothesis can be rejected (heuristically but this can perhaps be turned into a rigorous statistical test)."
   ]
  },
  {
   "cell_type": "code",
   "execution_count": null,
   "metadata": {},
   "outputs": [],
   "source": [
    "fig, ax = plt.subplots(figsize=(9,5), nrows=1, ncols=1)\n",
    "\n",
    "mean_reversion = 1.0\n",
    "long_term = 0.0\n",
    "vol = 0.4\n",
    "\n",
    "OU = Vasicek(x0=0.0, T=T, scheme_steps=SCHEME_STEPS, \n",
    "             vol=vol, long_term=long_term, mean_reversion=mean_reversion,\n",
    "            )\n",
    "\n",
    "df = OU.simulate()\n",
    "\n",
    "ax.plot(df, label='OU with jumps')\n",
    "ax.legend(loc='upper right')\n",
    "\n",
    "plt.tight_layout()\n",
    "plt.show()"
   ]
  },
  {
   "cell_type": "code",
   "execution_count": null,
   "metadata": {},
   "outputs": [],
   "source": [
    "fitter = OU_jump_only_Laplace_fitter(theta_init_mode='random',\n",
    "                                     std_dev_weight=std_dev_weight,\n",
    "                                     n_quadrature=n_quadrature,\n",
    "                                    )\n",
    "fitter.df = df\n",
    "fitter.theta_diffusion = [mean_reversion, long_term, vol]\n",
    "fitter.regularization = 0.0"
   ]
  },
  {
   "cell_type": "code",
   "execution_count": null,
   "metadata": {},
   "outputs": [],
   "source": [
    "fitter.theta_init"
   ]
  },
  {
   "cell_type": "code",
   "execution_count": null,
   "metadata": {},
   "outputs": [],
   "source": [
    "fit_info = fitter.fit()\n",
    "fit_info"
   ]
  },
  {
   "cell_type": "code",
   "execution_count": null,
   "metadata": {},
   "outputs": [],
   "source": [
    "print('Fitted:')\n",
    "print('intensity: {:.2f}'.format(fitter.theta[1]))\n",
    "print('jump size scale: {:.2f}'.format(fitter.theta[0]))"
   ]
  }
 ],
 "metadata": {
  "kernelspec": {
   "display_name": "Python 3",
   "language": "python",
   "name": "python3"
  },
  "language_info": {
   "codemirror_mode": {
    "name": "ipython",
    "version": 3
   },
   "file_extension": ".py",
   "mimetype": "text/x-python",
   "name": "python",
   "nbconvert_exporter": "python",
   "pygments_lexer": "ipython3",
   "version": "3.7.3"
  }
 },
 "nbformat": 4,
 "nbformat_minor": 2
}
