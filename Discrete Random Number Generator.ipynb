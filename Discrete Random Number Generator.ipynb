{
 "cells": [
  {
   "cell_type": "code",
   "execution_count": 1,
   "metadata": {},
   "outputs": [],
   "source": [
    "import numpy as np\n",
    "from numpy import random as rd\n",
    "from collections import Counter\n",
    "import matplotlib.pyplot as plt"
   ]
  },
  {
   "cell_type": "markdown",
   "metadata": {},
   "source": [
    "### Discrete distribution simulator\n",
    "Using only calls to rd.uniform()\n",
    "Given a list of n states and their respective probability:\n",
    "* create n intervals [p_0=0, p_1], [p_1, p_1+p_2], ..., [p_1+p_2+...+p_n-1, 1]\n",
    "* draw x from the uniform distribution over [0, 1] : there exists a unique i such that p_i-1 <= x < p_i; return state i\n",
    "* the probability of returning state i is precisely p_i\n",
    "\n",
    "The index i can found with e.g a binary search in O(log(n))"
   ]
  },
  {
   "cell_type": "code",
   "execution_count": 2,
   "metadata": {},
   "outputs": [],
   "source": [
    "class RNG():\n",
    "    def __init__(self, p={}, search='linear'):\n",
    "        \"\"\"\n",
    "        p : dictionary mapping numbers to their probability of being drawn\n",
    "        \"\"\"\n",
    "        self._p = p\n",
    "        self._search = search\n",
    "        \n",
    "        self._p_keys = list(p.keys())\n",
    "        self._p_values = list(p.values())\n",
    "\n",
    "        if np.abs(sum(p.values())-1) > 1e-10:\n",
    "            raise NameError('Sum of probability must be equal to 1')\n",
    "    \n",
    "        buckets = []\n",
    "        cum_p = 0\n",
    "        for key in p:\n",
    "            cum_p += p[key]\n",
    "            buckets.append(cum_p)\n",
    "        self._buckets = buckets\n",
    "    \n",
    "    def single_draw_lin_search(self):\n",
    "        x = rd.uniform()\n",
    "        for i, key in enumerate(self._p):\n",
    "            right = self._buckets[i]\n",
    "            if( right >= x ):\n",
    "                return key\n",
    "        \n",
    "    def single_draw_bin_search(self):\n",
    "        \"\"\"\n",
    "        Binary search to find the index of the probability bucket\n",
    "        \"\"\"\n",
    "        left, right = 0, len(self._p)\n",
    "        x = rd.uniform()\n",
    "        while left<right:\n",
    "            mid = int((left+right)/2)\n",
    "            if self._buckets[mid] < x:\n",
    "                left = mid+1\n",
    "            else:\n",
    "                right = mid\n",
    "        return self._p_keys[left]\n",
    "    \n",
    "    def rd_choice(self):\n",
    "        return rd.choice(self._p_keys, p=self._p_values)\n",
    "    \n",
    "    def draw(self, n):\n",
    "        \"\"\"\n",
    "        Draw a independent sample of size n based on probability distribution self._p\n",
    "        \"\"\"\n",
    "        if self._search == 'linear':\n",
    "            draw_func = self.single_draw_lin_search\n",
    "        elif self._search == 'binary':\n",
    "            draw_func = self.single_draw_bin_search\n",
    "        # benchmark against rd.choice function\n",
    "        elif self._search == 'rd.choice':\n",
    "            draw_func = self.rd_choice\n",
    "        else:\n",
    "            raise NameError('Unknown search type')\n",
    "            \n",
    "        return [ draw_func() for _ in range(int(n))]"
   ]
  },
  {
   "cell_type": "markdown",
   "metadata": {},
   "source": [
    "### Toy example"
   ]
  },
  {
   "cell_type": "code",
   "execution_count": 3,
   "metadata": {},
   "outputs": [],
   "source": [
    "p = {\n",
    "    0.1: 0.2,\n",
    "    0.2: 0.2,\n",
    "    0.5: 0.2,\n",
    "    0.8: 0.2,\n",
    "    0.9: 0.2,\n",
    "}"
   ]
  },
  {
   "cell_type": "code",
   "execution_count": 4,
   "metadata": {},
   "outputs": [
    {
     "data": {
      "text/plain": [
       "[0, 0.2, 0.4, 0.6000000000000001, 0.8, 1.0]"
      ]
     },
     "execution_count": 4,
     "metadata": {},
     "output_type": "execute_result"
    }
   ],
   "source": [
    "G = RNG(p, search='binary')\n",
    "[0] + G._buckets"
   ]
  },
  {
   "cell_type": "code",
   "execution_count": 5,
   "metadata": {},
   "outputs": [
    {
     "data": {
      "text/plain": [
       "[0.8, 0.8, 0.9, 0.9, 0.8, 0.1, 0.1, 0.9, 0.1, 0.2]"
      ]
     },
     "execution_count": 5,
     "metadata": {},
     "output_type": "execute_result"
    }
   ],
   "source": [
    "G.draw(10)"
   ]
  },
  {
   "cell_type": "markdown",
   "metadata": {},
   "source": [
    "### Initialize random distribution"
   ]
  },
  {
   "cell_type": "code",
   "execution_count": 6,
   "metadata": {},
   "outputs": [],
   "source": [
    "def init_random_p(n):\n",
    "    \"\"\"\n",
    "    draw n random points in [0,1] with random probabilities\n",
    "    \"\"\"\n",
    "    p_keys, p_proba = rd.random(n), rd.random(n)\n",
    "    p_proba = list(np.array(p_proba)/np.sum(p_proba))\n",
    "    return dict(zip(p_keys, p_proba))"
   ]
  },
  {
   "cell_type": "markdown",
   "metadata": {},
   "source": [
    "### Test that empirical frequency is same as expected"
   ]
  },
  {
   "cell_type": "code",
   "execution_count": 7,
   "metadata": {},
   "outputs": [],
   "source": [
    "def single_test(G, n=1e4, verbose=False):\n",
    "    sample = G.draw(n)\n",
    "    count = Counter(sample)\n",
    "    count_p = Counter(G._p)\n",
    "    err = 0\n",
    "    for key in count:\n",
    "        count[key] /= n\n",
    "        err += np.abs(count[key]-count_p[key])*100\n",
    "    if verbose:\n",
    "        print('Mean absolute error : {}%'.format(err))\n",
    "    return err\n",
    "    \n",
    "def test(n_state = 10, n_log_max = 13, n_sim = 100):\n",
    "    \"\"\"\n",
    "    Consider a distribution over n_state points.\n",
    "    Generate n_sim samples of size 2^n_log, for n_log between 1 and n_log_max\n",
    "    Compute the average absolute error per simulation (absolute percentage difference\n",
    "    between empirical frequency and expected probability) then average across simulations\n",
    "    \"\"\"\n",
    "    fig = plt.figure(figsize=(8, 7))\n",
    "    ax = plt.axes()\n",
    "    \n",
    "    p = init_random_p(n_state)\n",
    "    \n",
    "    for search in ['linear', 'binary', 'rd.choice' ]:\n",
    "        G = RNG(p, search=search)\n",
    "        err = []\n",
    "        for n_log in range(1, n_log_max+1):    \n",
    "            err_sim = []\n",
    "            for _ in range(n_sim):\n",
    "                err_sim.append(single_test(G, 2 ** n_log))\n",
    "            err.append(np.mean(err_sim))\n",
    "        ax.plot(list(range(1, n_log_max+1)), err, label=search)\n",
    "    \n",
    "    ax.set_xlabel('Log iterations')\n",
    "    ax.set_ylabel('Mean absolute error(%)')\n",
    "    ax.legend()\n",
    "\n",
    "    plt.tight_layout()\n",
    "    plt.show()"
   ]
  },
  {
   "cell_type": "code",
   "execution_count": 8,
   "metadata": {},
   "outputs": [
    {
     "data": {
      "image/png": "[encoded data removed]",
      "text/plain": [
       "<Figure size 576x504 with 1 Axes>"
      ]
     },
     "metadata": {
      "needs_background": "light"
     },
     "output_type": "display_data"
    }
   ],
   "source": [
    "test(n_state=10, n_log_max=13, n_sim=100)"
   ]
  },
  {
   "cell_type": "markdown",
   "metadata": {},
   "source": [
    "### Compare linear and binary search"
   ]
  },
  {
   "cell_type": "code",
   "execution_count": 9,
   "metadata": {},
   "outputs": [],
   "source": [
    "n_points=int(1e3)\n",
    "n_draw = int(1e4)\n",
    "p = init_random_p(n_points)\n",
    "G_linear = RNG(p, search='linear')\n",
    "G_binary = RNG(p, search='binary')\n",
    "G_rd_choice = RNG(p, search='rd.choice')"
   ]
  },
  {
   "cell_type": "code",
   "execution_count": 10,
   "metadata": {},
   "outputs": [
    {
     "name": "stdout",
     "output_type": "stream",
     "text": [
      "665 ms ± 8.46 ms per loop (mean ± std. dev. of 7 runs, 1 loop each)\n"
     ]
    }
   ],
   "source": [
    "%timeit G_linear.draw(n_draw)"
   ]
  },
  {
   "cell_type": "code",
   "execution_count": 11,
   "metadata": {},
   "outputs": [
    {
     "name": "stdout",
     "output_type": "stream",
     "text": [
      "44.7 ms ± 547 µs per loop (mean ± std. dev. of 7 runs, 10 loops each)\n"
     ]
    }
   ],
   "source": [
    "%timeit G_binary.draw(n_draw)"
   ]
  },
  {
   "cell_type": "code",
   "execution_count": 12,
   "metadata": {},
   "outputs": [
    {
     "name": "stdout",
     "output_type": "stream",
     "text": [
      "1.35 s ± 42.6 ms per loop (mean ± std. dev. of 7 runs, 1 loop each)\n"
     ]
    }
   ],
   "source": [
    "%timeit G_rd_choice.draw(n_draw)"
   ]
  },
  {
   "cell_type": "code",
   "execution_count": null,
   "metadata": {},
   "outputs": [],
   "source": []
  }
 ],
 "metadata": {
  "kernelspec": {
   "display_name": "Python 3",
   "language": "python",
   "name": "python3"
  },
  "language_info": {
   "codemirror_mode": {
    "name": "ipython",
    "version": 3
   },
   "file_extension": ".py",
   "mimetype": "text/x-python",
   "name": "python",
   "nbconvert_exporter": "python",
   "pygments_lexer": "ipython3",
   "version": "3.6.8"
  }
 },
 "nbformat": 4,
 "nbformat_minor": 2
}
