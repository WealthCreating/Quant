{
 "cells": [
  {
   "cell_type": "code",
   "execution_count": 1,
   "metadata": {},
   "outputs": [],
   "source": [
    "import numpy as np\n",
    "from numpy import random as rd\n",
    "import matplotlib.pyplot as plt\n",
    "import operator\n",
    "import abc\n",
    "import RLModule as rl"
   ]
  },
  {
   "cell_type": "markdown",
   "metadata": {},
   "source": [
    "### Set Bob, the agent"
   ]
  },
  {
   "cell_type": "code",
   "execution_count": 2,
   "metadata": {},
   "outputs": [
    {
     "name": "stdout",
     "output_type": "stream",
     "text": [
      "Current state : (0, 0)\n",
      "State history : [(0, 0)]\n",
      "Total reward  : 0\n"
     ]
    }
   ],
   "source": [
    "Bob = rl.Agent()\n",
    "init_state = (0,0)\n",
    "Bob.state = init_state\n",
    "Bob.summary()"
   ]
  },
  {
   "cell_type": "markdown",
   "metadata": {},
   "source": [
    "### Basic Gridworld"
   ]
  },
  {
   "cell_type": "code",
   "execution_count": 3,
   "metadata": {},
   "outputs": [],
   "source": [
    "n_h, n_v = 10, 10\n",
    "terminal_state = (n_h-1, n_v-1)\n",
    "Env = rl.BasicGridworld(n_h, n_v, terminal_state=terminal_state)\n",
    "#Env.summary()"
   ]
  },
  {
   "cell_type": "code",
   "execution_count": 4,
   "metadata": {},
   "outputs": [],
   "source": [
    "policy_params = {\n",
    "    'policy_name': 'EpsilonGreedy',\n",
    "    'epsilon': 0.1\n",
    "}\n",
    "\n",
    "agent_params = {\n",
    "    'state': init_state\n",
    "}\n",
    "\n",
    "params = {\n",
    "    'policy_params': policy_params,\n",
    "    'agent_params': agent_params,\n",
    "    'learning_rate': 0.5,\n",
    "    'discount_factor': 1,\n",
    "    \n",
    "}\n",
    "\n",
    "Sarsa_RL = rl.Sarsa(Agent=Bob, Environment=Env, params=params)\n",
    "Q_RL = rl.QLearning(Agent=Bob, Environment=Env, params=params)"
   ]
  },
  {
   "cell_type": "code",
   "execution_count": 5,
   "metadata": {},
   "outputs": [],
   "source": [
    "N_EPOCHS =1000\n",
    "Sarsa_RL.learn(N_EPOCHS, init_state=init_state)\n",
    "Q_RL.learn(N_EPOCHS, init_state=init_state)"
   ]
  },
  {
   "cell_type": "code",
   "execution_count": 6,
   "metadata": {},
   "outputs": [
    {
     "name": "stdout",
     "output_type": "stream",
     "text": [
      "[[  .   .   .   .   .   .   .   .   . -1.]\n",
      " [  .   .   .   .   .   .   .   . -1. -1.]\n",
      " [  .   .   .   .   .   .   .   . -1.   .]\n",
      " [  .   .   .   .   .   . -1. -1. -1.   .]\n",
      " [  .   . -1. -1. -1. -1. -1.   .   .   .]\n",
      " [  .   . -1.   .   .   .   .   .   .   .]\n",
      " [  .   . -1.   .   .   .   .   .   .   .]\n",
      " [  .   . -1.   .   .   .   .   .   .   .]\n",
      " [-1. -1. -1.   .   .   .   .   .   .   .]\n",
      " [ 0.   .   .   .   .   .   .   .   .   .]]\n",
      "Total reward : -18\n",
      "[[  .   .   .   .   .   .   .   .   . -1.]\n",
      " [  . -1. -1. -1. -1. -1. -1. -1. -1. -1.]\n",
      " [  . -1.   .   .   .   .   .   .   .   .]\n",
      " [-1. -1.   .   .   .   .   .   .   .   .]\n",
      " [-1.   .   .   .   .   .   .   .   .   .]\n",
      " [-1.   .   .   .   .   .   .   .   .   .]\n",
      " [-1.   .   .   .   .   .   .   .   .   .]\n",
      " [-1.   .   .   .   .   .   .   .   .   .]\n",
      " [-1.   .   .   .   .   .   .   .   .   .]\n",
      " [ 0.   .   .   .   .   .   .   .   .   .]]\n",
      "Total reward : -18\n"
     ]
    }
   ],
   "source": [
    "optimal_path, reward_history = Sarsa_RL.optimalPath(init_state)\n",
    "Env.printPath(optimal_path, reward_history)\n",
    "\n",
    "optimal_path, reward_history = Q_RL.optimalPath(init_state)\n",
    "Env.printPath(optimal_path, reward_history)"
   ]
  },
  {
   "cell_type": "markdown",
   "metadata": {},
   "source": [
    "### Windy Gridworld"
   ]
  },
  {
   "cell_type": "code",
   "execution_count": 16,
   "metadata": {},
   "outputs": [],
   "source": [
    "n_h, n_v = 10, 10\n",
    "terminal_state = (n_h-1, n_v-1)\n",
    "Env = rl.WindyGridworld(n_h, n_v, terminal_state=terminal_state)\n",
    "#Env.summary()"
   ]
  },
  {
   "cell_type": "code",
   "execution_count": 17,
   "metadata": {},
   "outputs": [],
   "source": [
    "policy_params = {\n",
    "    'policy_name': 'EpsilonGreedy',\n",
    "    'epsilon': 0.1\n",
    "}\n",
    "\n",
    "agent_params = {\n",
    "    'state': init_state\n",
    "}\n",
    "\n",
    "params = {\n",
    "    'policy_params': policy_params,\n",
    "    'agent_params': agent_params,\n",
    "    'learning_rate': 0.5,\n",
    "    'discount_factor': 1,\n",
    "    \n",
    "}\n",
    "\n",
    "Sarsa_RL = rl.Sarsa(Agent=Bob, Environment=Env, params=params)\n",
    "Q_RL = rl.QLearning(Agent=Bob, Environment=Env, params=params)"
   ]
  },
  {
   "cell_type": "code",
   "execution_count": 18,
   "metadata": {},
   "outputs": [],
   "source": [
    "N_EPOCHS=1000\n",
    "Sarsa_RL.learn(N_EPOCHS, init_state=init_state)\n",
    "Q_RL.learn(N_EPOCHS, init_state=init_state)"
   ]
  },
  {
   "cell_type": "code",
   "execution_count": 19,
   "metadata": {},
   "outputs": [
    {
     "name": "stdout",
     "output_type": "stream",
     "text": [
      "[[  .   .   .   .   .   .   .   .   . -1.]\n",
      " [  .   .   .   .   .   . -1. -1. -1. -1.]\n",
      " [  .   .   .   .   . -1.   .   .   .   .]\n",
      " [  .   .   .   .   .   .   .   .   .   .]\n",
      " [  .   .   .   .   . -1.   .   .   .   .]\n",
      " [  .   .   .   .   .   .   .   .   .   .]\n",
      " [  .   .   .   .   . -1.   .   .   .   .]\n",
      " [  .   .   .   .   .   .   .   .   .   .]\n",
      " [  .   . -1. -1. -1. -1.   .   .   .   .]\n",
      " [ 0. -1. -1.   .   .   .   .   .   .   .]]\n",
      "Total reward : -14\n",
      "[[  .   .   .   .   .   . -1. -1. -1. -1.]\n",
      " [  .   .   .   .   . -1.   .   .   .   .]\n",
      " [  .   .   .   .   .   .   .   .   .   .]\n",
      " [  .   .   .   .   . -1.   .   .   .   .]\n",
      " [  .   .   .   .   .   .   .   .   .   .]\n",
      " [  .   .   .   .   . -1.   .   .   .   .]\n",
      " [  .   .   .   .   .   .   .   .   .   .]\n",
      " [  .   .   .   .   . -1.   .   .   .   .]\n",
      " [  .   .   .   .   .   .   .   .   .   .]\n",
      " [ 0. -1. -1. -1. -1. -1.   .   .   .   .]]\n",
      "Total reward : -13\n"
     ]
    }
   ],
   "source": [
    "optimal_path, reward_history = Sarsa_RL.optimalPath(init_state)\n",
    "Env.printPath(optimal_path, reward_history)\n",
    "\n",
    "optimal_path, reward_history = Q_RL.optimalPath(init_state)\n",
    "Env.printPath(optimal_path, reward_history)"
   ]
  },
  {
   "cell_type": "markdown",
   "metadata": {},
   "source": [
    "### Cliff Gridworld"
   ]
  },
  {
   "cell_type": "code",
   "execution_count": 24,
   "metadata": {},
   "outputs": [
    {
     "name": "stdout",
     "output_type": "stream",
     "text": [
      "[['.' '.' '.' '.' '.' '.' '.' '.' '.' '.']\n",
      " ['.' '.' '.' '.' '.' '.' '.' '.' '.' '.']\n",
      " ['.' '.' '.' '.' '.' '.' '.' '.' '.' '.']\n",
      " ['.' '.' '.' '.' '.' '.' '.' '.' '.' '.']\n",
      " ['.' '.' '.' '.' '.' '.' '.' '.' '.' '.']\n",
      " ['.' '.' '.' '.' '.' '.' '.' '.' '.' '.']\n",
      " ['.' '.' '.' '.' '.' '.' '.' '.' '.' '.']\n",
      " ['.' '.' '.' '.' '.' '.' '.' '.' '.' '.']\n",
      " ['.' '.' '.' '.' '.' '.' '.' '.' '.' '.']\n",
      " ['.' '*' '*' '*' '*' '*' '*' '*' '*' '.']]\n"
     ]
    }
   ],
   "source": [
    "n_h, n_v = 10, 10\n",
    "startover_state = (0, 0)\n",
    "terminal_state = (n_h-1, 0)\n",
    "Env = rl.CliffGridworld(n_h, n_v, terminal_state=terminal_state, startover_state=startover_state)\n",
    "#Env.summary()\n",
    "Env.printCliff()"
   ]
  },
  {
   "cell_type": "code",
   "execution_count": 25,
   "metadata": {},
   "outputs": [],
   "source": [
    "policy_params = {\n",
    "    'policy_name': 'EpsilonGreedy',\n",
    "    'epsilon': 0.1\n",
    "}\n",
    "\n",
    "agent_params = {\n",
    "    'state': init_state\n",
    "}\n",
    "\n",
    "params = {\n",
    "    'policy_params': policy_params,\n",
    "    'agent_params': agent_params,\n",
    "    'learning_rate': 0.5,\n",
    "    'discount_factor': 1,\n",
    "    \n",
    "}\n",
    "\n",
    "Sarsa_RL = rl.Sarsa(Agent=Bob, Environment=Env, params=params)\n",
    "Q_RL = rl.QLearning(Agent=Bob, Environment=Env, params=params)"
   ]
  },
  {
   "cell_type": "code",
   "execution_count": 26,
   "metadata": {},
   "outputs": [],
   "source": [
    "N_EPOCHS=1000\n",
    "Sarsa_RL.learn(N_EPOCHS, init_state=init_state)\n",
    "Q_RL.learn(N_EPOCHS, init_state=init_state)"
   ]
  },
  {
   "cell_type": "markdown",
   "metadata": {},
   "source": [
    "See how Sarsa follows a safe path, away from the cliff, whereas Q-learning finds the optimal path, albeit more risky"
   ]
  },
  {
   "cell_type": "code",
   "execution_count": 27,
   "metadata": {},
   "outputs": [
    {
     "name": "stdout",
     "output_type": "stream",
     "text": [
      "[[  .   .   .   .   .   .   .   .   .   .]\n",
      " [  .   .   .   .   .   .   .   .   .   .]\n",
      " [  .   .   .   .   .   .   .   .   .   .]\n",
      " [  .   .   .   .   .   .   .   .   .   .]\n",
      " [  .   .   .   .   .   .   .   .   .   .]\n",
      " [-1. -1. -1. -1. -1. -1. -1. -1.   .   .]\n",
      " [-1.   .   .   .   .   .   . -1. -1. -1.]\n",
      " [-1.   .   .   .   .   .   .   .   . -1.]\n",
      " [-1.   .   .   .   .   .   .   .   . -1.]\n",
      " [ 0.   .   .   .   .   .   .   .   . -1.]]\n",
      "Total reward : -17\n",
      "[[  .   .   .   .   .   .   .   .   .   .]\n",
      " [  .   .   .   .   .   .   .   .   .   .]\n",
      " [  .   .   .   .   .   .   .   .   .   .]\n",
      " [  .   .   .   .   .   .   .   .   .   .]\n",
      " [  .   .   .   .   .   .   .   .   .   .]\n",
      " [  .   .   .   .   .   .   .   .   .   .]\n",
      " [  .   .   .   .   .   .   .   .   .   .]\n",
      " [  .   .   .   .   .   .   .   .   .   .]\n",
      " [-1. -1. -1. -1. -1. -1. -1. -1. -1. -1.]\n",
      " [ 0.   .   .   .   .   .   .   .   . -1.]]\n",
      "Total reward : -11\n"
     ]
    }
   ],
   "source": [
    "optimal_path, reward_history = Sarsa_RL.optimalPath(init_state)\n",
    "Env.printPath(optimal_path, reward_history)\n",
    "\n",
    "optimal_path, reward_history = Q_RL.optimalPath(init_state)\n",
    "Env.printPath(optimal_path, reward_history)"
   ]
  },
  {
   "cell_type": "code",
   "execution_count": null,
   "metadata": {},
   "outputs": [],
   "source": []
  }
 ],
 "metadata": {
  "kernelspec": {
   "display_name": "Python 3",
   "language": "python",
   "name": "python3"
  },
  "language_info": {
   "codemirror_mode": {
    "name": "ipython",
    "version": 3
   },
   "file_extension": ".py",
   "mimetype": "text/x-python",
   "name": "python",
   "nbconvert_exporter": "python",
   "pygments_lexer": "ipython3",
   "version": "3.6.5"
  }
 },
 "nbformat": 4,
 "nbformat_minor": 2
}
